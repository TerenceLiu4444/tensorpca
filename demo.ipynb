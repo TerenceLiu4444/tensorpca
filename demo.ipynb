{
  "nbformat": 4,
  "nbformat_minor": 0,
  "metadata": {
    "colab": {
      "name": "IR.ipynb",
      "provenance": [],
      "collapsed_sections": [],
      "include_colab_link": true
    },
    "kernelspec": {
      "name": "ir",
      "display_name": "R"
    }
  },
  "cells": [
    {
      "cell_type": "markdown",
      "metadata": {
        "id": "view-in-github",
        "colab_type": "text"
      },
      "source": [
        "<a href=\"https://colab.research.google.com/github/TerenceLiu4444/tensorpca/blob/master/demo.ipynb\" target=\"_parent\"><img src=\"https://colab.research.google.com/assets/colab-badge.svg\" alt=\"Open In Colab\"/></a>"
      ]
    },
    {
      "cell_type": "code",
      "metadata": {
        "id": "Z60PpIfIeF4Z",
        "outputId": "e737885d-b680-4686-c1e0-b089e9292320",
        "colab": {
          "base_uri": "https://localhost:8080/",
          "height": 476
        }
      },
      "source": [
        "install.packages(\"devtools\")\n",
        "library(devtools)\n",
        "install_github(\"TerenceLiu4444/tensorpca\")\n",
        "library(tensorpca)"
      ],
      "execution_count": 1,
      "outputs": [
        {
          "output_type": "stream",
          "text": [
            "Installing package into ‘/usr/local/lib/R/site-library’\n",
            "(as ‘lib’ is unspecified)\n",
            "\n",
            "also installing the dependencies ‘usethis’, ‘covr’\n",
            "\n",
            "\n",
            "Loading required package: usethis\n",
            "\n",
            "Downloading GitHub repo TerenceLiu4444/tensorpca@HEAD\n",
            "\n"
          ],
          "name": "stderr"
        },
        {
          "output_type": "stream",
          "text": [
            "RcppArmad... (NA -> 0.9.900.3.0) [CRAN]\n"
          ],
          "name": "stdout"
        },
        {
          "output_type": "stream",
          "text": [
            "Installing 1 packages: RcppArmadillo\n",
            "\n",
            "Installing package into ‘/usr/local/lib/R/site-library’\n",
            "(as ‘lib’ is unspecified)\n",
            "\n"
          ],
          "name": "stderr"
        },
        {
          "output_type": "stream",
          "text": [
            "\u001b[32m✔\u001b[39m  \u001b[90mchecking for file ‘/tmp/RtmpVjCQOq/remotes66feaf4c0/TerenceLiu4444-tensorpca-8c3b8c2/DESCRIPTION’\u001b[39m\u001b[36m\u001b[39m\n",
            "\u001b[90m─\u001b[39m\u001b[90m  \u001b[39m\u001b[90mpreparing ‘tensorpca’:\u001b[39m\u001b[36m\u001b[39m\n",
            "\u001b[32m✔\u001b[39m  \u001b[90mchecking DESCRIPTION meta-information\u001b[39m\u001b[36m\u001b[39m\n",
            "\u001b[90m─\u001b[39m\u001b[90m  \u001b[39m\u001b[90mcleaning src\u001b[39m\u001b[36m\u001b[39m\n",
            "\u001b[90m─\u001b[39m\u001b[90m  \u001b[39m\u001b[90mchecking for LF line-endings in source and make files and shell scripts\u001b[39m\u001b[36m\u001b[39m\n",
            "\u001b[90m─\u001b[39m\u001b[90m  \u001b[39m\u001b[90mchecking for empty or unneeded directories\u001b[39m\u001b[36m\u001b[39m\n",
            "\u001b[90m─\u001b[39m\u001b[90m  \u001b[39m\u001b[90mbuilding ‘tensorpca_1.0.tar.gz’\u001b[39m\u001b[36m\u001b[39m\n",
            "   \n"
          ],
          "name": "stdout"
        },
        {
          "output_type": "stream",
          "text": [
            "Installing package into ‘/usr/local/lib/R/site-library’\n",
            "(as ‘lib’ is unspecified)\n",
            "\n"
          ],
          "name": "stderr"
        }
      ]
    },
    {
      "cell_type": "code",
      "metadata": {
        "id": "19xH90ae43fe",
        "outputId": "89b49243-9fe9-4246-969e-3c88ad4dab25",
        "colab": {
          "base_uri": "https://localhost:8080/",
          "height": 153
        }
      },
      "source": [
        "d = 3\n",
        "sigma = 0.01\n",
        "a = c(1,0,0)\n",
        "b = c(1,0,0)\n",
        "c = c(1,0,0)\n",
        "\n",
        "signal_tensor = GetRank1Tensor(1,a,b,c)\n",
        "data_tensor = signal_tensor + sigma * array(rnorm(d * d * d), c(d, d, d))\n",
        "power_iteration = 10\n",
        "decomposed_tensor_rank = 3\n",
        "res = TensorPCA(data_tensor, decomposed_tensor_rank, sigma, power_iteration)\n",
        "print(\"Eigen values of the decomposed tensor:\")\n",
        "print(res$D[, power_iteration])\n",
        "\n",
        "print(\"Eigen values of the signal tensor:\")\n",
        "print(c(1,0,0))\n",
        "\n",
        "print(\"Eigen vectors of the decomposed tensor:\")\n",
        "print(res$U[, 1, power_iteration])\n",
        "    \n",
        "print(\"Eigen vectors of the signal tensor:\")\n",
        "print(c(1,0,0))"
      ],
      "execution_count": 2,
      "outputs": [
        {
          "output_type": "stream",
          "text": [
            "[1] \"Eigen values of the decomposed tensor:\"\n",
            "[1] 1.006342610 0.024769751 0.005386249\n",
            "[1] \"Eigen values of the signal tensor:\"\n",
            "[1] 1 0 0\n",
            "[1] \"Eigen vectors of the decomposed tensor:\"\n",
            "[1] -0.999994183  0.003345011  0.000666660\n",
            "[1] \"Eigen vectors of the signal tensor:\"\n",
            "[1] 1 0 0\n"
          ],
          "name": "stdout"
        }
      ]
    }
  ]
}